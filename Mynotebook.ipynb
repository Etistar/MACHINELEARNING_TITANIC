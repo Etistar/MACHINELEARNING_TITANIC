{
 "cells": [
  {
   "cell_type": "code",
   "execution_count": 26,
   "metadata": {},
   "outputs": [],
   "source": [
    "import joblib \n",
    "\n",
    "\n",
    "model = joblib.load(\"C:/Users/DPCS6481/Documents/Projet Postgresql/Titanic/random_forest_model.joblib\")"
   ]
  },
  {
   "cell_type": "code",
   "execution_count": 27,
   "metadata": {},
   "outputs": [
    {
     "data": {
      "text/plain": [
       "0"
      ]
     },
     "execution_count": 27,
     "metadata": {},
     "output_type": "execute_result"
    }
   ],
   "source": [
    "import pandas as pd\n",
    "\n",
    "\n",
    "\n",
    "data = {\"Pclass\" : \"3\",\n",
    "\"Sex\" : \"male\",\n",
    "\"SibSp\" : 1,\n",
    "\"Parch\" : 0,\n",
    "\"Fare\": 7.2500,\n",
    "\"Embarked\" : \"S\",\n",
    "\"civility\"\t: \"Mr\",\n",
    "\"Age_levels\" : \"(10, 25]\"\n",
    "\t}\n",
    "\n",
    "\n",
    "data_sent = pd.json_normalize(data)\n",
    "\n",
    "model.predict(data_sent)[0]"
   ]
  },
  {
   "cell_type": "code",
   "execution_count": 29,
   "metadata": {},
   "outputs": [
    {
     "data": {
      "text/plain": [
       "'0'"
      ]
     },
     "execution_count": 29,
     "metadata": {},
     "output_type": "execute_result"
    }
   ],
   "source": [
    "import requests\n",
    "import json \n",
    "url = \"http://127.0.0.1:8000/score\"\n",
    "\n",
    "# Votre chaîne JSON\n",
    "json_string = '{\"Pclass\": \"3\", \"Sex\": \"male\", \"SibSp\": 1, \"Parch\": 0, \"Fare\": 7.25, \"Embarked\": \"S\", \"civility\": \"Mr\", \"Age_levels\": \"(10, 25]\"}'\n",
    "#json_string = '{\"Pclass\": \"1\", \"Sex\": \"male\", \"SibSp\": 0, \"Parch\": 0, \"Fare\": 30, \"Embarked\": \"C\", \"civility\": \"Mr\", \"Age_levels\": \"(25, 50]\"}'\n",
    "\n",
    "\n",
    "#data_sent = json.dumps(data)\n",
    "response = requests.request('POST', url = url, data = json_string)\n",
    "response.text\n"
   ]
  },
  {
   "cell_type": "code",
   "execution_count": 31,
   "metadata": {},
   "outputs": [
    {
     "ename": "NameError",
     "evalue": "name 'selected_options' is not defined",
     "output_type": "error",
     "traceback": [
      "\u001b[1;31m---------------------------------------------------------------------------\u001b[0m",
      "\u001b[1;31mNameError\u001b[0m                                 Traceback (most recent call last)",
      "Cell \u001b[1;32mIn[31], line 24\u001b[0m\n\u001b[0;32m     13\u001b[0m options \u001b[38;5;241m=\u001b[39m {\n\u001b[0;32m     14\u001b[0m     \u001b[38;5;124m\"\u001b[39m\u001b[38;5;124mPclass\u001b[39m\u001b[38;5;124m\"\u001b[39m: [\u001b[38;5;28mstr\u001b[39m(elemento) \u001b[38;5;28;01mfor\u001b[39;00m elemento \u001b[38;5;129;01min\u001b[39;00m data\u001b[38;5;241m.\u001b[39mPclass\u001b[38;5;241m.\u001b[39munique()],\n\u001b[0;32m     15\u001b[0m     \u001b[38;5;124m\"\u001b[39m\u001b[38;5;124mSex\u001b[39m\u001b[38;5;124m\"\u001b[39m: [\u001b[38;5;28mstr\u001b[39m(elemento) \u001b[38;5;28;01mfor\u001b[39;00m elemento \u001b[38;5;129;01min\u001b[39;00m data\u001b[38;5;241m.\u001b[39mSex\u001b[38;5;241m.\u001b[39munique()],\n\u001b[1;32m   (...)\u001b[0m\n\u001b[0;32m     18\u001b[0m     \u001b[38;5;124m\"\u001b[39m\u001b[38;5;124mAge_levels\u001b[39m\u001b[38;5;124m\"\u001b[39m: [\u001b[38;5;124m\"\u001b[39m\u001b[38;5;124m(0, 10]\u001b[39m\u001b[38;5;124m\"\u001b[39m, \u001b[38;5;124m\"\u001b[39m\u001b[38;5;124m(10, 25]\u001b[39m\u001b[38;5;124m\"\u001b[39m, \u001b[38;5;124m\"\u001b[39m\u001b[38;5;124m(25, 50]\u001b[39m\u001b[38;5;124m\"\u001b[39m, \u001b[38;5;124m\"\u001b[39m\u001b[38;5;124m(50, 100]\u001b[39m\u001b[38;5;124m\"\u001b[39m]\n\u001b[0;32m     19\u001b[0m }\n\u001b[0;32m     23\u001b[0m \u001b[38;5;66;03m# Conversion des options sélectionnées en JSON\u001b[39;00m\n\u001b[1;32m---> 24\u001b[0m json_string \u001b[38;5;241m=\u001b[39m json\u001b[38;5;241m.\u001b[39mdumps(\u001b[43mselected_options\u001b[49m)\n",
      "\u001b[1;31mNameError\u001b[0m: name 'selected_options' is not defined"
     ]
    }
   ],
   "source": [
    "# Définition des options pour les variables\n",
    "options1 = {\n",
    "    \"Pclass\": [str(elemento) for elemento in data.Pclass.unique()],\n",
    "    \"Sex\": [str(elemento) for elemento in data.Sex.unique()],\n",
    "    \"SibSp\": [min(data.SibSp) , max(data.SibSp)],\n",
    "    \"Parch\": [min(data.Parch) , max(data.Parch)],\n",
    "    \"Fare\": [min(data.Fare) , max(data.Fare)],\n",
    "    \"Embarked\": [str(elemento) for elemento in data.Embarked.unique()],\n",
    "    \"civility\": [str(elemento) for elemento in data.civility.unique()],\n",
    "    \"Age_levels\": [\"(0, 10]\", \"(10, 25]\", \"(25, 50]\", \"(50, 100]\"]\n",
    "}\n",
    "\n",
    "options = {\n",
    "    \"Pclass\": [str(elemento) for elemento in data.Pclass.unique()],\n",
    "    \"Sex\": [str(elemento) for elemento in data.Sex.unique()],\n",
    "    \"Embarked\": [str(elemento) for elemento in data.Embarked.unique()],\n",
    "    \"civility\": [str(elemento) for elemento in data.civility.unique()],\n",
    "    \"Age_levels\": [\"(0, 10]\", \"(10, 25]\", \"(25, 50]\", \"(50, 100]\"]\n",
    "}\n",
    "\n",
    "# Création des boîtes glissantes pour Parch, SibSp et Fare\n",
    "for variable in [\"Parch\", \"SibSp\", \"Fare\"]:\n",
    "    min_value, max_value = options1[variable]\n",
    "    valeur_selectionnee = st.slider(f\"Sélectionnez une valeur pour {variable}\", min_value, max_value)\n",
    "    st.write(f\"La valeur sélectionnée pour {variable} est : {valeur_selectionnee}\")\n",
    "\n",
    "\n",
    "# Affichage de la liste déroulante pour chaque variable\n",
    "selected_options = {}\n",
    "for key, values in options.items():\n",
    "    selected_options[key] = st.selectbox(key, values)\n",
    "\n",
    "# Conversion des options sélectionnées en JSON\n",
    "json_string = json.dumps(selected_options)"
   ]
  }
 ],
 "metadata": {
  "kernelspec": {
   "display_name": "env_projet",
   "language": "python",
   "name": "python3"
  },
  "language_info": {
   "codemirror_mode": {
    "name": "ipython",
    "version": 3
   },
   "file_extension": ".py",
   "mimetype": "text/x-python",
   "name": "python",
   "nbconvert_exporter": "python",
   "pygments_lexer": "ipython3",
   "version": "3.8.9"
  }
 },
 "nbformat": 4,
 "nbformat_minor": 2
}
